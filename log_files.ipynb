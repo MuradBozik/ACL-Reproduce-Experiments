{
 "cells": [
  {
   "cell_type": "code",
   "execution_count": 234,
   "metadata": {},
   "outputs": [],
   "source": [
    "import os\n",
    "import numpy as np\n",
    "import pandas as pd\n",
    "import re"
   ]
  },
  {
   "cell_type": "code",
   "execution_count": 235,
   "metadata": {},
   "outputs": [],
   "source": [
    "folder_name = \"scenarios/EAX/slices-tsp-rue-1000-3000/\"\n",
    "\n",
    "list_of_file_names = os.listdir(folder_name + 'data/')"
   ]
  },
  {
   "cell_type": "code",
   "execution_count": 236,
   "metadata": {},
   "outputs": [],
   "source": [
    "list_of_file_names.sort()"
   ]
  },
  {
   "cell_type": "code",
   "execution_count": 237,
   "metadata": {},
   "outputs": [
    {
     "data": {
      "text/plain": [
       "['.DS_Store',\n",
       " 'runtimes-pNCH-0.log',\n",
       " 'runtimes-pNCH-1.log',\n",
       " 'runtimes-pNCH-10.log',\n",
       " 'runtimes-pNCH-100.log',\n",
       " 'runtimes-pNCH-101.log',\n",
       " 'runtimes-pNCH-102.log',\n",
       " 'runtimes-pNCH-103.log',\n",
       " 'runtimes-pNCH-104.log',\n",
       " 'runtimes-pNCH-105.log']"
      ]
     },
     "execution_count": 237,
     "metadata": {},
     "output_type": "execute_result"
    }
   ],
   "source": [
    "list_of_file_names[:10]"
   ]
  },
  {
   "cell_type": "code",
   "execution_count": 238,
   "metadata": {},
   "outputs": [
    {
     "data": {
      "text/plain": [
       "451"
      ]
     },
     "execution_count": 238,
     "metadata": {},
     "output_type": "execute_result"
    }
   ],
   "source": [
    "len(list_of_file_names)"
   ]
  },
  {
   "cell_type": "code",
   "execution_count": 239,
   "metadata": {},
   "outputs": [],
   "source": [
    "list_of_file_names = list_of_file_names[1:]"
   ]
  },
  {
   "cell_type": "code",
   "execution_count": 135,
   "metadata": {},
   "outputs": [],
   "source": [
    "with open(folder_name + 'configs.csv', 'r') as config_file:\n",
    "    configuration_lines = config_file.readlines()[1:]\n",
    "    \n",
    "    for configuration_line in configuration_lines:\n",
    "        configuration_name, configuration = configuration_line.split(',')\n",
    "        \n",
    "        with open(folder_name + \"data/runtimes-\"+ '_'.join(configuration_name.split('_')[:-1]) + '.log', 'r') as log_file:\n",
    "            lines = log_file.readlines()\n",
    "                \n",
    "        with open(folder_name + \"data/runtimes-\"+ configuration_name + '.log', 'w+') as new_log_file:\n",
    "            \n",
    "            lines[3] = lines[3].replace(lines[3].split(':')[1], ' ' + configuration_name + '\\n')\n",
    "            lines[4] = lines[4].replace(lines[4].split(':')[1], configuration)\n",
    "            new_log_file.writelines(lines)\n",
    "            "
   ]
  },
  {
   "cell_type": "code",
   "execution_count": 242,
   "metadata": {},
   "outputs": [
    {
     "name": "stdout",
     "output_type": "stream",
     "text": [
      "runtimes-pNCH-0.log\n",
      "runtimes-pNCH-1.log\n",
      "runtimes-pNCH-10.log\n",
      "runtimes-pNCH-100.log\n",
      "runtimes-pNCH-101.log\n",
      "runtimes-pNCH-102.log\n",
      "runtimes-pNCH-103.log\n",
      "runtimes-pNCH-104.log\n",
      "runtimes-pNCH-105.log\n",
      "runtimes-pNCH-106.log\n",
      "runtimes-pNCH-107.log\n",
      "runtimes-pNCH-108.log\n",
      "runtimes-pNCH-109.log\n",
      "runtimes-pNCH-11.log\n",
      "runtimes-pNCH-110.log\n",
      "runtimes-pNCH-111.log\n",
      "runtimes-pNCH-112.log\n",
      "runtimes-pNCH-113.log\n",
      "runtimes-pNCH-114.log\n",
      "runtimes-pNCH-115.log\n",
      "runtimes-pNCH-116.log\n",
      "runtimes-pNCH-117.log\n",
      "runtimes-pNCH-118.log\n",
      "runtimes-pNCH-119.log\n",
      "runtimes-pNCH-12.log\n",
      "runtimes-pNCH-120.log\n",
      "runtimes-pNCH-121.log\n",
      "runtimes-pNCH-122.log\n",
      "runtimes-pNCH-123.log\n",
      "runtimes-pNCH-124.log\n",
      "runtimes-pNCH-125.log\n",
      "runtimes-pNCH-126.log\n",
      "runtimes-pNCH-127.log\n",
      "runtimes-pNCH-128.log\n",
      "runtimes-pNCH-129.log\n",
      "runtimes-pNCH-13.log\n",
      "runtimes-pNCH-130.log\n",
      "runtimes-pNCH-131.log\n",
      "runtimes-pNCH-132.log\n",
      "runtimes-pNCH-133.log\n",
      "runtimes-pNCH-134.log\n",
      "runtimes-pNCH-135.log\n",
      "runtimes-pNCH-136.log\n",
      "runtimes-pNCH-137.log\n",
      "runtimes-pNCH-138.log\n",
      "runtimes-pNCH-139.log\n",
      "runtimes-pNCH-14.log\n",
      "runtimes-pNCH-140.log\n",
      "runtimes-pNCH-141.log\n",
      "runtimes-pNCH-142.log\n",
      "runtimes-pNCH-143.log\n",
      "runtimes-pNCH-144.log\n",
      "runtimes-pNCH-145.log\n",
      "runtimes-pNCH-146.log\n",
      "runtimes-pNCH-147.log\n",
      "runtimes-pNCH-148.log\n",
      "runtimes-pNCH-149.log\n",
      "runtimes-pNCH-15.log\n",
      "runtimes-pNCH-150.log\n",
      "runtimes-pNCH-151.log\n",
      "runtimes-pNCH-152.log\n",
      "runtimes-pNCH-153.log\n",
      "runtimes-pNCH-154.log\n",
      "runtimes-pNCH-155.log\n",
      "runtimes-pNCH-156.log\n",
      "runtimes-pNCH-157.log\n",
      "runtimes-pNCH-158.log\n",
      "runtimes-pNCH-159.log\n",
      "runtimes-pNCH-16.log\n",
      "runtimes-pNCH-160.log\n",
      "runtimes-pNCH-161.log\n",
      "runtimes-pNCH-162.log\n",
      "runtimes-pNCH-163.log\n",
      "runtimes-pNCH-164.log\n",
      "runtimes-pNCH-165.log\n",
      "runtimes-pNCH-166.log\n",
      "runtimes-pNCH-167.log\n",
      "runtimes-pNCH-168.log\n",
      "runtimes-pNCH-169.log\n",
      "runtimes-pNCH-17.log\n",
      "runtimes-pNCH-170.log\n",
      "runtimes-pNCH-171.log\n",
      "runtimes-pNCH-172.log\n",
      "runtimes-pNCH-173.log\n",
      "runtimes-pNCH-174.log\n",
      "runtimes-pNCH-175.log\n",
      "runtimes-pNCH-176.log\n",
      "runtimes-pNCH-177.log\n",
      "runtimes-pNCH-178.log\n",
      "runtimes-pNCH-179.log\n",
      "runtimes-pNCH-18.log\n",
      "runtimes-pNCH-180.log\n",
      "runtimes-pNCH-181.log\n",
      "runtimes-pNCH-182.log\n",
      "runtimes-pNCH-183.log\n",
      "runtimes-pNCH-184.log\n",
      "runtimes-pNCH-185.log\n",
      "runtimes-pNCH-186.log\n",
      "runtimes-pNCH-187.log\n",
      "runtimes-pNCH-188.log\n",
      "runtimes-pNCH-189.log\n",
      "runtimes-pNCH-19.log\n",
      "runtimes-pNCH-190.log\n",
      "runtimes-pNCH-191.log\n",
      "runtimes-pNCH-192.log\n",
      "runtimes-pNCH-193.log\n",
      "runtimes-pNCH-194.log\n",
      "runtimes-pNCH-195.log\n",
      "runtimes-pNCH-196.log\n",
      "runtimes-pNCH-197.log\n",
      "runtimes-pNCH-198.log\n",
      "runtimes-pNCH-199.log\n",
      "runtimes-pNCH-2.log\n",
      "runtimes-pNCH-20.log\n",
      "runtimes-pNCH-200.log\n",
      "runtimes-pNCH-201.log\n",
      "runtimes-pNCH-202.log\n",
      "runtimes-pNCH-203.log\n",
      "runtimes-pNCH-204.log\n",
      "runtimes-pNCH-205.log\n",
      "runtimes-pNCH-206.log\n",
      "runtimes-pNCH-207.log\n",
      "runtimes-pNCH-208.log\n",
      "runtimes-pNCH-209.log\n",
      "runtimes-pNCH-21.log\n",
      "runtimes-pNCH-210.log\n",
      "runtimes-pNCH-211.log\n",
      "runtimes-pNCH-212.log\n",
      "runtimes-pNCH-213.log\n",
      "runtimes-pNCH-214.log\n",
      "runtimes-pNCH-215.log\n",
      "runtimes-pNCH-216.log\n",
      "runtimes-pNCH-217.log\n",
      "runtimes-pNCH-218.log\n",
      "runtimes-pNCH-219.log\n",
      "runtimes-pNCH-22.log\n",
      "runtimes-pNCH-220.log\n",
      "runtimes-pNCH-221.log\n",
      "runtimes-pNCH-222.log\n",
      "runtimes-pNCH-223.log\n",
      "runtimes-pNCH-224.log\n",
      "runtimes-pNCH-23.log\n",
      "runtimes-pNCH-24.log\n",
      "runtimes-pNCH-25.log\n",
      "runtimes-pNCH-26.log\n",
      "runtimes-pNCH-27.log\n",
      "runtimes-pNCH-28.log\n",
      "runtimes-pNCH-29.log\n",
      "runtimes-pNCH-3.log\n",
      "runtimes-pNCH-30.log\n",
      "runtimes-pNCH-31.log\n",
      "runtimes-pNCH-32.log\n",
      "runtimes-pNCH-33.log\n",
      "runtimes-pNCH-34.log\n",
      "runtimes-pNCH-35.log\n",
      "runtimes-pNCH-36.log\n",
      "runtimes-pNCH-37.log\n",
      "runtimes-pNCH-38.log\n",
      "runtimes-pNCH-39.log\n",
      "runtimes-pNCH-4.log\n",
      "runtimes-pNCH-40.log\n",
      "runtimes-pNCH-41.log\n",
      "runtimes-pNCH-42.log\n",
      "runtimes-pNCH-43.log\n",
      "runtimes-pNCH-44.log\n",
      "runtimes-pNCH-45.log\n",
      "runtimes-pNCH-46.log\n",
      "runtimes-pNCH-47.log\n",
      "runtimes-pNCH-48.log\n",
      "runtimes-pNCH-49.log\n",
      "runtimes-pNCH-5.log\n",
      "runtimes-pNCH-50.log\n",
      "runtimes-pNCH-51.log\n",
      "runtimes-pNCH-52.log\n",
      "runtimes-pNCH-53.log\n",
      "runtimes-pNCH-54.log\n",
      "runtimes-pNCH-55.log\n",
      "runtimes-pNCH-56.log\n",
      "runtimes-pNCH-57.log\n",
      "runtimes-pNCH-58.log\n",
      "runtimes-pNCH-59.log\n",
      "runtimes-pNCH-6.log\n",
      "runtimes-pNCH-60.log\n",
      "runtimes-pNCH-61.log\n",
      "runtimes-pNCH-62.log\n",
      "runtimes-pNCH-63.log\n",
      "runtimes-pNCH-64.log\n",
      "runtimes-pNCH-65.log\n",
      "runtimes-pNCH-66.log\n",
      "runtimes-pNCH-67.log\n",
      "runtimes-pNCH-68.log\n",
      "runtimes-pNCH-69.log\n",
      "runtimes-pNCH-7.log\n",
      "runtimes-pNCH-70.log\n",
      "runtimes-pNCH-71.log\n",
      "runtimes-pNCH-72.log\n",
      "runtimes-pNCH-73.log\n",
      "runtimes-pNCH-74.log\n",
      "runtimes-pNCH-75.log\n",
      "runtimes-pNCH-76.log\n",
      "runtimes-pNCH-77.log\n",
      "runtimes-pNCH-78.log\n",
      "runtimes-pNCH-79.log\n",
      "runtimes-pNCH-8.log\n",
      "runtimes-pNCH-80.log\n",
      "runtimes-pNCH-81.log\n",
      "runtimes-pNCH-82.log\n",
      "runtimes-pNCH-83.log\n",
      "runtimes-pNCH-84.log\n",
      "runtimes-pNCH-85.log\n",
      "runtimes-pNCH-86.log\n",
      "runtimes-pNCH-87.log\n",
      "runtimes-pNCH-88.log\n",
      "runtimes-pNCH-89.log\n",
      "runtimes-pNCH-9.log\n",
      "runtimes-pNCH-90.log\n",
      "runtimes-pNCH-91.log\n",
      "runtimes-pNCH-92.log\n",
      "runtimes-pNCH-93.log\n",
      "runtimes-pNCH-94.log\n",
      "runtimes-pNCH-95.log\n",
      "runtimes-pNCH-96.log\n",
      "runtimes-pNCH-97.log\n",
      "runtimes-pNCH-98.log\n",
      "runtimes-pNCH-99.log\n",
      "runtimes-pNPOP-0.log\n",
      "runtimes-pNPOP-1.log\n",
      "runtimes-pNPOP-10.log\n",
      "runtimes-pNPOP-100.log\n",
      "runtimes-pNPOP-101.log\n",
      "runtimes-pNPOP-102.log\n",
      "runtimes-pNPOP-103.log\n",
      "runtimes-pNPOP-104.log\n",
      "runtimes-pNPOP-105.log\n",
      "runtimes-pNPOP-106.log\n",
      "runtimes-pNPOP-107.log\n",
      "runtimes-pNPOP-108.log\n",
      "runtimes-pNPOP-109.log\n",
      "runtimes-pNPOP-11.log\n",
      "runtimes-pNPOP-110.log\n",
      "runtimes-pNPOP-111.log\n",
      "runtimes-pNPOP-112.log\n",
      "runtimes-pNPOP-113.log\n",
      "runtimes-pNPOP-114.log\n",
      "runtimes-pNPOP-115.log\n",
      "runtimes-pNPOP-116.log\n",
      "runtimes-pNPOP-117.log\n",
      "runtimes-pNPOP-118.log\n",
      "runtimes-pNPOP-119.log\n",
      "runtimes-pNPOP-12.log\n",
      "runtimes-pNPOP-120.log\n",
      "runtimes-pNPOP-121.log\n",
      "runtimes-pNPOP-122.log\n",
      "runtimes-pNPOP-123.log\n",
      "runtimes-pNPOP-124.log\n",
      "runtimes-pNPOP-125.log\n",
      "runtimes-pNPOP-126.log\n",
      "runtimes-pNPOP-127.log\n",
      "runtimes-pNPOP-128.log\n",
      "runtimes-pNPOP-129.log\n",
      "runtimes-pNPOP-13.log\n",
      "runtimes-pNPOP-130.log\n",
      "runtimes-pNPOP-131.log\n",
      "runtimes-pNPOP-132.log\n",
      "runtimes-pNPOP-133.log\n",
      "runtimes-pNPOP-134.log\n",
      "runtimes-pNPOP-135.log\n",
      "runtimes-pNPOP-136.log\n",
      "runtimes-pNPOP-137.log\n",
      "runtimes-pNPOP-138.log\n",
      "runtimes-pNPOP-139.log\n",
      "runtimes-pNPOP-14.log\n",
      "runtimes-pNPOP-140.log\n",
      "runtimes-pNPOP-141.log\n",
      "runtimes-pNPOP-142.log\n",
      "runtimes-pNPOP-143.log\n",
      "runtimes-pNPOP-144.log\n",
      "runtimes-pNPOP-145.log\n",
      "runtimes-pNPOP-146.log\n",
      "runtimes-pNPOP-147.log\n",
      "runtimes-pNPOP-148.log\n",
      "runtimes-pNPOP-149.log\n",
      "runtimes-pNPOP-15.log\n",
      "runtimes-pNPOP-150.log\n",
      "runtimes-pNPOP-151.log\n",
      "runtimes-pNPOP-152.log\n",
      "runtimes-pNPOP-153.log\n",
      "runtimes-pNPOP-154.log\n",
      "runtimes-pNPOP-155.log\n",
      "runtimes-pNPOP-156.log\n",
      "runtimes-pNPOP-157.log\n",
      "runtimes-pNPOP-158.log\n",
      "runtimes-pNPOP-159.log\n",
      "runtimes-pNPOP-16.log\n",
      "runtimes-pNPOP-160.log\n",
      "runtimes-pNPOP-161.log\n",
      "runtimes-pNPOP-162.log\n",
      "runtimes-pNPOP-163.log\n",
      "runtimes-pNPOP-164.log\n",
      "runtimes-pNPOP-165.log\n",
      "runtimes-pNPOP-166.log\n",
      "runtimes-pNPOP-167.log\n",
      "runtimes-pNPOP-168.log\n",
      "runtimes-pNPOP-169.log\n",
      "runtimes-pNPOP-17.log\n",
      "runtimes-pNPOP-170.log\n",
      "runtimes-pNPOP-171.log\n",
      "runtimes-pNPOP-172.log\n",
      "runtimes-pNPOP-173.log\n",
      "runtimes-pNPOP-174.log\n",
      "runtimes-pNPOP-175.log\n",
      "runtimes-pNPOP-176.log\n",
      "runtimes-pNPOP-177.log\n",
      "runtimes-pNPOP-178.log\n",
      "runtimes-pNPOP-179.log\n",
      "runtimes-pNPOP-18.log\n",
      "runtimes-pNPOP-180.log\n",
      "runtimes-pNPOP-181.log\n",
      "runtimes-pNPOP-182.log\n",
      "runtimes-pNPOP-183.log\n",
      "runtimes-pNPOP-184.log\n",
      "runtimes-pNPOP-185.log\n",
      "runtimes-pNPOP-186.log\n",
      "runtimes-pNPOP-187.log\n",
      "runtimes-pNPOP-188.log\n",
      "runtimes-pNPOP-189.log\n",
      "runtimes-pNPOP-19.log\n",
      "runtimes-pNPOP-190.log\n",
      "runtimes-pNPOP-191.log\n",
      "runtimes-pNPOP-192.log\n",
      "runtimes-pNPOP-193.log\n",
      "runtimes-pNPOP-194.log\n",
      "runtimes-pNPOP-195.log\n",
      "runtimes-pNPOP-196.log\n",
      "runtimes-pNPOP-197.log\n",
      "runtimes-pNPOP-198.log\n",
      "runtimes-pNPOP-199.log\n",
      "runtimes-pNPOP-2.log\n",
      "runtimes-pNPOP-20.log\n",
      "runtimes-pNPOP-200.log\n",
      "runtimes-pNPOP-201.log\n",
      "runtimes-pNPOP-202.log\n",
      "runtimes-pNPOP-203.log\n",
      "runtimes-pNPOP-204.log\n",
      "runtimes-pNPOP-205.log\n",
      "runtimes-pNPOP-206.log\n",
      "runtimes-pNPOP-207.log\n",
      "runtimes-pNPOP-208.log\n",
      "runtimes-pNPOP-209.log\n",
      "runtimes-pNPOP-21.log\n",
      "runtimes-pNPOP-210.log\n",
      "runtimes-pNPOP-211.log\n",
      "runtimes-pNPOP-212.log\n",
      "runtimes-pNPOP-213.log\n",
      "runtimes-pNPOP-214.log\n",
      "runtimes-pNPOP-215.log\n",
      "runtimes-pNPOP-216.log\n",
      "runtimes-pNPOP-217.log\n",
      "runtimes-pNPOP-218.log\n",
      "runtimes-pNPOP-219.log\n",
      "runtimes-pNPOP-22.log\n",
      "runtimes-pNPOP-220.log\n",
      "runtimes-pNPOP-221.log\n",
      "runtimes-pNPOP-222.log\n",
      "runtimes-pNPOP-223.log\n",
      "runtimes-pNPOP-224.log\n",
      "runtimes-pNPOP-23.log\n",
      "runtimes-pNPOP-24.log\n",
      "runtimes-pNPOP-25.log\n",
      "runtimes-pNPOP-26.log\n",
      "runtimes-pNPOP-27.log\n",
      "runtimes-pNPOP-28.log\n",
      "runtimes-pNPOP-29.log\n",
      "runtimes-pNPOP-3.log\n",
      "runtimes-pNPOP-30.log\n",
      "runtimes-pNPOP-31.log\n",
      "runtimes-pNPOP-32.log\n",
      "runtimes-pNPOP-33.log\n",
      "runtimes-pNPOP-34.log\n",
      "runtimes-pNPOP-35.log\n",
      "runtimes-pNPOP-36.log\n",
      "runtimes-pNPOP-37.log\n",
      "runtimes-pNPOP-38.log\n",
      "runtimes-pNPOP-39.log\n",
      "runtimes-pNPOP-4.log\n",
      "runtimes-pNPOP-40.log\n",
      "runtimes-pNPOP-41.log\n",
      "runtimes-pNPOP-42.log\n",
      "runtimes-pNPOP-43.log\n",
      "runtimes-pNPOP-44.log\n",
      "runtimes-pNPOP-45.log\n",
      "runtimes-pNPOP-46.log\n",
      "runtimes-pNPOP-47.log\n",
      "runtimes-pNPOP-48.log\n",
      "runtimes-pNPOP-49.log\n",
      "runtimes-pNPOP-5.log\n",
      "runtimes-pNPOP-50.log\n",
      "runtimes-pNPOP-51.log\n",
      "runtimes-pNPOP-52.log\n",
      "runtimes-pNPOP-53.log\n",
      "runtimes-pNPOP-54.log\n",
      "runtimes-pNPOP-55.log\n",
      "runtimes-pNPOP-56.log\n",
      "runtimes-pNPOP-57.log\n",
      "runtimes-pNPOP-58.log\n",
      "runtimes-pNPOP-59.log\n",
      "runtimes-pNPOP-6.log\n",
      "runtimes-pNPOP-60.log\n",
      "runtimes-pNPOP-61.log\n",
      "runtimes-pNPOP-62.log\n",
      "runtimes-pNPOP-63.log\n",
      "runtimes-pNPOP-64.log\n",
      "runtimes-pNPOP-65.log\n",
      "runtimes-pNPOP-66.log\n",
      "runtimes-pNPOP-67.log\n",
      "runtimes-pNPOP-68.log\n",
      "runtimes-pNPOP-69.log\n",
      "runtimes-pNPOP-7.log\n",
      "runtimes-pNPOP-70.log\n",
      "runtimes-pNPOP-71.log\n",
      "runtimes-pNPOP-72.log\n",
      "runtimes-pNPOP-73.log\n",
      "runtimes-pNPOP-74.log\n",
      "runtimes-pNPOP-75.log\n",
      "runtimes-pNPOP-76.log\n",
      "runtimes-pNPOP-77.log\n",
      "runtimes-pNPOP-78.log\n",
      "runtimes-pNPOP-79.log\n",
      "runtimes-pNPOP-8.log\n",
      "runtimes-pNPOP-80.log\n",
      "runtimes-pNPOP-81.log\n",
      "runtimes-pNPOP-82.log\n",
      "runtimes-pNPOP-83.log\n",
      "runtimes-pNPOP-84.log\n",
      "runtimes-pNPOP-85.log\n",
      "runtimes-pNPOP-86.log\n",
      "runtimes-pNPOP-87.log\n",
      "runtimes-pNPOP-88.log\n",
      "runtimes-pNPOP-89.log\n",
      "runtimes-pNPOP-9.log\n",
      "runtimes-pNPOP-90.log\n",
      "runtimes-pNPOP-91.log\n",
      "runtimes-pNPOP-92.log\n",
      "runtimes-pNPOP-93.log\n",
      "runtimes-pNPOP-94.log\n",
      "runtimes-pNPOP-95.log\n",
      "runtimes-pNPOP-96.log\n",
      "runtimes-pNPOP-97.log\n",
      "runtimes-pNPOP-98.log\n",
      "runtimes-pNPOP-99.log\n"
     ]
    }
   ],
   "source": [
    "for file_name in list_of_file_names:\n",
    "    print(file_name)\n",
    "    with open(folder_name+'data/'+file_name) as f:\n",
    "        lines = f.readlines()\n",
    "        \n",
    "        new_file_name = lines[3].split(\":\")[-1].strip()\n",
    "        \n",
    "    try:\n",
    "        with open(folder_name+\"new_data/runtimes-\"+new_file_name + '.log', 'w+') as newfile:\n",
    "            newfile.writelines(lines)\n",
    "    except:\n",
    "        print(\"Error\")\n",
    "        continue"
   ]
  },
  {
   "cell_type": "code",
   "execution_count": 231,
   "metadata": {},
   "outputs": [
    {
     "data": {
      "text/plain": [
       "'pNCH-0_0'"
      ]
     },
     "execution_count": 231,
     "metadata": {},
     "output_type": "execute_result"
    }
   ],
   "source": []
  },
  {
   "cell_type": "code",
   "execution_count": 206,
   "metadata": {},
   "outputs": [
    {
     "data": {
      "text/plain": [
       "\"pNCH-0_0, -Nch '12' -Npop '64'\\n\""
      ]
     },
     "execution_count": 206,
     "metadata": {},
     "output_type": "execute_result"
    }
   ],
   "source": [
    "configuration_lines[0]"
   ]
  },
  {
   "cell_type": "code",
   "execution_count": 136,
   "metadata": {},
   "outputs": [],
   "source": [
    "configId = \"pNCH-0_0\""
   ]
  },
  {
   "cell_type": "code",
   "execution_count": 139,
   "metadata": {},
   "outputs": [
    {
     "data": {
      "text/plain": [
       "'nch-0'"
      ]
     },
     "execution_count": 139,
     "metadata": {},
     "output_type": "execute_result"
    }
   ],
   "source": [
    "'-'.join(configId.split('_')[:-1])[1:].lower()"
   ]
  },
  {
   "cell_type": "code",
   "execution_count": 138,
   "metadata": {},
   "outputs": [
    {
     "data": {
      "text/plain": [
       "['pNCH']"
      ]
     },
     "execution_count": 138,
     "metadata": {},
     "output_type": "execute_result"
    }
   ],
   "source": [
    "configId.split('-')[:-1]"
   ]
  },
  {
   "cell_type": "code",
   "execution_count": 140,
   "metadata": {},
   "outputs": [],
   "source": [
    "configId2 = \"pMIP_LIMITS_CUTSFACTOR-5_4\""
   ]
  },
  {
   "cell_type": "code",
   "execution_count": 143,
   "metadata": {},
   "outputs": [
    {
     "data": {
      "text/plain": [
       "'mip-limits-cutsfactor-5'"
      ]
     },
     "execution_count": 143,
     "metadata": {},
     "output_type": "execute_result"
    }
   ],
   "source": [
    "'-'.join(configId2[1:].split('_')[:-1]).lower()"
   ]
  },
  {
   "cell_type": "code",
   "execution_count": 145,
   "metadata": {},
   "outputs": [
    {
     "data": {
      "text/plain": [
       "'nch-0'"
      ]
     },
     "execution_count": 145,
     "metadata": {},
     "output_type": "execute_result"
    }
   ],
   "source": [
    "'-'.join(configId[1:].split('_')[:-1]).lower()"
   ]
  },
  {
   "cell_type": "code",
   "execution_count": 209,
   "metadata": {},
   "outputs": [
    {
     "data": {
      "text/plain": [
       "\" -Nch '12' -Npop '64'\\n\""
      ]
     },
     "execution_count": 209,
     "metadata": {},
     "output_type": "execute_result"
    }
   ],
   "source": [
    "conf = configuration_lines[0].split(',')[-1]\n",
    "conf"
   ]
  },
  {
   "cell_type": "code",
   "execution_count": 210,
   "metadata": {},
   "outputs": [
    {
     "data": {
      "text/plain": [
       "[\" -Nch '12' -Npop '64'\\n\"]"
      ]
     },
     "execution_count": 210,
     "metadata": {},
     "output_type": "execute_result"
    }
   ],
   "source": [
    "cc = conf.split(\"'(.*?)'\")\n",
    "cc"
   ]
  },
  {
   "cell_type": "code",
   "execution_count": 212,
   "metadata": {},
   "outputs": [],
   "source": [
    "target_parameter = 'Npop'\n",
    "result = re.findall(\" '(.*?)'\", conf)\n",
    "nch, npop = result"
   ]
  },
  {
   "cell_type": "code",
   "execution_count": 213,
   "metadata": {},
   "outputs": [
    {
     "name": "stdout",
     "output_type": "stream",
     "text": [
      "#Parameter call-string: -Nch '12' -Npop '64'\n",
      "\n"
     ]
    }
   ],
   "source": [
    "print(f\"#Parameter call-string: -Nch '{nch}' -Npop '{npop}'\\n\")"
   ]
  },
  {
   "cell_type": "code",
   "execution_count": 216,
   "metadata": {},
   "outputs": [
    {
     "data": {
      "text/plain": [
       "'instances/tsp/data/tsp-rue-1000-3000/1000-11.tsp'"
      ]
     },
     "execution_count": 216,
     "metadata": {},
     "output_type": "execute_result"
    }
   ],
   "source": [
    "s = \"../../../instances/tsp/data/tsp-rue-1000-3000/1000-11.tsp\"\n",
    "s[9:]"
   ]
  },
  {
   "cell_type": "code",
   "execution_count": 158,
   "metadata": {},
   "outputs": [
    {
     "name": "stdout",
     "output_type": "stream",
     "text": [
      "p =  \n",
      "p_prime =  \n",
      "p =  Nch '12'\n",
      "p_prime =  nch\n"
     ]
    },
    {
     "ename": "NameError",
     "evalue": "name 'values' is not defined",
     "output_type": "error",
     "traceback": [
      "\u001b[0;31m---------------------------------------------------------------------------\u001b[0m",
      "\u001b[0;31mNameError\u001b[0m                                 Traceback (most recent call last)",
      "\u001b[0;32m<ipython-input-158-628c81414410>\u001b[0m in \u001b[0;36m<module>\u001b[0;34m\u001b[0m\n\u001b[1;32m      4\u001b[0m     \u001b[0mprint\u001b[0m\u001b[0;34m(\u001b[0m\u001b[0;34m'p_prime = '\u001b[0m\u001b[0;34m,\u001b[0m\u001b[0mp\u001b[0m\u001b[0;34m.\u001b[0m\u001b[0msplit\u001b[0m\u001b[0;34m(\u001b[0m\u001b[0;34m' '\u001b[0m\u001b[0;34m)\u001b[0m\u001b[0;34m[\u001b[0m\u001b[0;36m0\u001b[0m\u001b[0;34m]\u001b[0m\u001b[0;34m.\u001b[0m\u001b[0mlower\u001b[0m\u001b[0;34m(\u001b[0m\u001b[0;34m)\u001b[0m\u001b[0;34m)\u001b[0m\u001b[0;34m\u001b[0m\u001b[0;34m\u001b[0m\u001b[0m\n\u001b[1;32m      5\u001b[0m     \u001b[0;32mif\u001b[0m \u001b[0;34m(\u001b[0m\u001b[0mp\u001b[0m\u001b[0;34m.\u001b[0m\u001b[0msplit\u001b[0m\u001b[0;34m(\u001b[0m\u001b[0;34m' '\u001b[0m\u001b[0;34m)\u001b[0m\u001b[0;34m[\u001b[0m\u001b[0;36m0\u001b[0m\u001b[0;34m]\u001b[0m\u001b[0;34m.\u001b[0m\u001b[0mlower\u001b[0m\u001b[0;34m(\u001b[0m\u001b[0;34m)\u001b[0m \u001b[0;34m==\u001b[0m \u001b[0;34m'nch-0'\u001b[0m\u001b[0;34m.\u001b[0m\u001b[0msplit\u001b[0m\u001b[0;34m(\u001b[0m\u001b[0;34m'-'\u001b[0m\u001b[0;34m)\u001b[0m\u001b[0;34m[\u001b[0m\u001b[0;36m0\u001b[0m\u001b[0;34m]\u001b[0m\u001b[0;34m)\u001b[0m\u001b[0;34m:\u001b[0m\u001b[0;34m\u001b[0m\u001b[0;34m\u001b[0m\u001b[0m\n\u001b[0;32m----> 6\u001b[0;31m         \u001b[0mvalues\u001b[0m\u001b[0;34m[\u001b[0m\u001b[0mconfigId\u001b[0m\u001b[0;34m]\u001b[0m \u001b[0;34m=\u001b[0m \u001b[0mfloat\u001b[0m\u001b[0;34m(\u001b[0m\u001b[0mp\u001b[0m\u001b[0;34m.\u001b[0m\u001b[0msplit\u001b[0m\u001b[0;34m(\u001b[0m\u001b[0;34m' '\u001b[0m\u001b[0;34m)\u001b[0m\u001b[0;34m[\u001b[0m\u001b[0;36m1\u001b[0m\u001b[0;34m]\u001b[0m\u001b[0;34m.\u001b[0m\u001b[0mstrip\u001b[0m\u001b[0;34m(\u001b[0m\u001b[0;34m\"'\"\u001b[0m\u001b[0;34m)\u001b[0m\u001b[0;34m)\u001b[0m\u001b[0;34m\u001b[0m\u001b[0;34m\u001b[0m\u001b[0m\n\u001b[0m\u001b[1;32m      7\u001b[0m \u001b[0;34m\u001b[0m\u001b[0m\n",
      "\u001b[0;31mNameError\u001b[0m: name 'values' is not defined"
     ]
    }
   ],
   "source": [
    "for p in conf.split(' -'):\n",
    "    p = p.strip()\n",
    "    print('p = ',p)\n",
    "    print('p_prime = ',p.split(' ')[0].lower())\n",
    "    if (p.split(' ')[0].lower() == 'nch-0'.split('-')[0]):\n",
    "        values[configId] = float(p.split(' ')[1].strip(\"'\"))\n"
   ]
  },
  {
   "cell_type": "code",
   "execution_count": null,
   "metadata": {},
   "outputs": [],
   "source": [
    "conf"
   ]
  },
  {
   "cell_type": "code",
   "execution_count": null,
   "metadata": {},
   "outputs": [],
   "source": [
    "for configId in configs.keys():  # configId == parameter_name + no (pBARRIER_LIMITS_CORRECTIONS-0_0)\n",
    "    param = '-'.join(configId.split('_')[:-1])[1:].lower()\n",
    "    configString = ' ' + configs[configId]  # configString == callString\n",
    "    for p in configString.split(' -'):\n",
    "        p = p.strip()\n",
    "        if (p.split(' ')[0].lower() == param):\n",
    "\n",
    "            values[configId] = float(p.split(' ')[1].strip(\"'\"))\n"
   ]
  },
  {
   "cell_type": "code",
   "execution_count": 163,
   "metadata": {},
   "outputs": [
    {
     "data": {
      "text/plain": [
       "'nch-0'"
      ]
     },
     "execution_count": 163,
     "metadata": {},
     "output_type": "execute_result"
    }
   ],
   "source": [
    "param"
   ]
  },
  {
   "cell_type": "code",
   "execution_count": null,
   "metadata": {},
   "outputs": [],
   "source": [
    "with open(folder_name + 'configs.csv', 'r') as config_file:\n",
    "    configuration_lines = config_file.readlines()[1:]\n",
    "    \n",
    "    for configuration_line in configuration_lines:\n",
    "        configuration_name, configuration = configuration_line.split(',')\n",
    "        \n",
    "        with open(folder_name + \"data/runtimes-\"+ '_'.join(configuration_name.split('_')[:-1]) + '.log', 'r') as log_file:\n",
    "            lines = log_file.readlines()\n",
    "                \n",
    "        with open(folder_name + \"data/runtimes-\"+ configuration_name + '.log', 'w+') as new_log_file:\n",
    "            \n",
    "            lines[3] = lines[3].replace(lines[3].split(':')[1], ' ' + configuration_name + '\\n')\n",
    "            lines[4] = lines[4].replace(lines[4].split(':')[1], configuration)\n",
    "            new_log_file.writelines(lines)\n",
    "            "
   ]
  }
 ],
 "metadata": {
  "kernelspec": {
   "display_name": "aml",
   "language": "python",
   "name": "aml"
  },
  "language_info": {
   "codemirror_mode": {
    "name": "ipython",
    "version": 3
   },
   "file_extension": ".py",
   "mimetype": "text/x-python",
   "name": "python",
   "nbconvert_exporter": "python",
   "pygments_lexer": "ipython3",
   "version": "3.7.7"
  }
 },
 "nbformat": 4,
 "nbformat_minor": 4
}
