{
 "cells": [
  {
   "cell_type": "code",
   "execution_count": 54,
   "metadata": {},
   "outputs": [],
   "source": [
    "import os\n",
    "import numpy as np\n",
    "import pandas as pd\n",
    "import re"
   ]
  },
  {
   "cell_type": "code",
   "execution_count": 68,
   "metadata": {},
   "outputs": [],
   "source": [
    "folder_name = \"scenarios/CaDiCaL/slices-BMC08/\"\n",
    "\n",
    "list_of_file_names = os.listdir(folder_name + 'data/')"
   ]
  },
  {
   "cell_type": "code",
   "execution_count": 69,
   "metadata": {},
   "outputs": [],
   "source": [
    "list_of_file_names.sort()"
   ]
  },
  {
   "cell_type": "code",
   "execution_count": 70,
   "metadata": {},
   "outputs": [
    {
     "data": {
      "text/plain": [
       "['runtimes-pCOMPACTINT-0.log',\n",
       " 'runtimes-pCOMPACTINT-1.log',\n",
       " 'runtimes-pCOMPACTINT-10.log',\n",
       " 'runtimes-pCOMPACTINT-11.log',\n",
       " 'runtimes-pCOMPACTINT-12.log',\n",
       " 'runtimes-pCOMPACTINT-13.log',\n",
       " 'runtimes-pCOMPACTINT-14.log',\n",
       " 'runtimes-pCOMPACTINT-2.log',\n",
       " 'runtimes-pCOMPACTINT-3.log',\n",
       " 'runtimes-pCOMPACTINT-4.log']"
      ]
     },
     "execution_count": 70,
     "metadata": {},
     "output_type": "execute_result"
    }
   ],
   "source": [
    "list_of_file_names[:10]"
   ]
  },
  {
   "cell_type": "code",
   "execution_count": 80,
   "metadata": {},
   "outputs": [],
   "source": [
    "with open(folder_name + 'configs.csv', 'r') as config_file:\n",
    "    configuration_lines = config_file.readlines()[1:]\n",
    "    \n",
    "    for configuration_line in configuration_lines:\n",
    "        configuration_name, configuration = configuration_line.split(',')\n",
    "        \n",
    "        with open(folder_name + \"data/runtimes-\"+ configuration_name.split('_')[0] + '.log', 'r') as log_file:\n",
    "            lines = log_file.readlines()\n",
    "            \n",
    "        with open(folder_name + \"data/runtimes-\"+ configuration_name + '.log', 'w+') as new_log_file:\n",
    "            \n",
    "            lines[3] = lines[3].replace(lines[3].split(':')[1], ' ' + configuration_name + '\\n')\n",
    "            lines[4] = lines[4].replace(lines[4].split(':')[1], configuration)\n",
    "            new_log_file.writelines(lines)\n",
    "            "
   ]
  },
  {
   "cell_type": "code",
   "execution_count": 72,
   "metadata": {},
   "outputs": [
    {
     "data": {
      "text/plain": [
       "\"pCOMPACTINT-0_KEEPGLUE-0, -arena '3' -arenacompact 'true' -arenasort '1' -binary 'true' -check 'false' -compact 'true' -compactint '375' -compactlim '0.1' -compactmin '100' -decompose 'true' -decomposerounds '1' -elim 'true' -elimclslim '1000' -eliminit '1000' -elimint '10000' -elimocclim '100' -elimrounds '1' -elimroundsinit '5' -emagluefast '0.03' -emaglueslow '1e-05' -emajump '1e-05' -emasize '1e-05' -hbr 'true' -hbrsizelim '1000000000' -keepglue '0' -keepsize '3' -leak 'true' -minimize 'true' -minimizedepth '1000' -phase '1' -posize '4' -prefetch 'true' -probe 'true' -probeinit '500' -probeint '10000' -probemaxeff '10000000.0' -probemineff '100000.0' -probereleff '0.02' -reduceinc '300' -reduceinit '2000' -rephase 'true' -rephaseint '100000' -restart 'true' -restartint '6' -restartmargin '1.1' -reusetrail 'true' -simplify 'true' -strengthen 'true' -subsume 'true' -subsumebinlim '1462' -subsumeclslim '1000' -subsumeinc '10000' -subsumeinit '10000' -subsumeocclim '100' -transred 'true' -transredmaxeff '10000000.0' -transredmineff '100000.0' -transredreleff '0.1' -vivify 'true' -vivifymaxeff '10000000.0' -vivifymineff '100000.0' -vivifyreleff '0.03'\\n\""
      ]
     },
     "execution_count": 72,
     "metadata": {},
     "output_type": "execute_result"
    }
   ],
   "source": [
    "configuration_line"
   ]
  },
  {
   "cell_type": "code",
   "execution_count": 74,
   "metadata": {},
   "outputs": [
    {
     "data": {
      "text/plain": [
       "'pCOMPACTINT-0'"
      ]
     },
     "execution_count": 74,
     "metadata": {},
     "output_type": "execute_result"
    }
   ],
   "source": [
    "configuration_name.split('_')[0]"
   ]
  },
  {
   "cell_type": "code",
   "execution_count": null,
   "metadata": {},
   "outputs": [],
   "source": []
  }
 ],
 "metadata": {
  "kernelspec": {
   "display_name": "aml",
   "language": "python",
   "name": "aml"
  },
  "language_info": {
   "codemirror_mode": {
    "name": "ipython",
    "version": 3
   },
   "file_extension": ".py",
   "mimetype": "text/x-python",
   "name": "python",
   "nbconvert_exporter": "python",
   "pygments_lexer": "ipython3",
   "version": "3.7.7"
  }
 },
 "nbformat": 4,
 "nbformat_minor": 4
}
