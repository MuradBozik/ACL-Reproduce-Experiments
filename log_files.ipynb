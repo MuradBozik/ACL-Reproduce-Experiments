{
 "cells": [
  {
   "cell_type": "code",
   "execution_count": 54,
   "metadata": {},
   "outputs": [],
   "source": [
    "import os\n",
    "import numpy as np\n",
    "import pandas as pd\n",
    "import re"
   ]
  },
  {
   "cell_type": "code",
   "execution_count": 117,
   "metadata": {},
   "outputs": [],
   "source": [
    "folder_name = \"scenarios/CaDiCaL/\"\n",
    "\n",
    "list_of_file_names = os.listdir(folder_name + 'data/')"
   ]
  },
  {
   "cell_type": "code",
   "execution_count": 118,
   "metadata": {},
   "outputs": [],
   "source": [
    "list_of_file_names.sort()"
   ]
  },
  {
   "cell_type": "code",
   "execution_count": 119,
   "metadata": {},
   "outputs": [
    {
     "data": {
      "text/plain": [
       "['.DS_Store',\n",
       " 'runtimes-pCOMPACTINT-0.log',\n",
       " 'runtimes-pCOMPACTINT-1.log',\n",
       " 'runtimes-pCOMPACTINT-10.log',\n",
       " 'runtimes-pCOMPACTINT-11.log',\n",
       " 'runtimes-pCOMPACTINT-12.log',\n",
       " 'runtimes-pCOMPACTINT-13.log',\n",
       " 'runtimes-pCOMPACTINT-14.log',\n",
       " 'runtimes-pCOMPACTINT-2.log',\n",
       " 'runtimes-pCOMPACTINT-3.log']"
      ]
     },
     "execution_count": 119,
     "metadata": {},
     "output_type": "execute_result"
    }
   ],
   "source": [
    "list_of_file_names[:10]"
   ]
  },
  {
   "cell_type": "code",
   "execution_count": 120,
   "metadata": {},
   "outputs": [],
   "source": [
    "with open(folder_name + 'configs.csv', 'r') as config_file:\n",
    "    configuration_lines = config_file.readlines()[1:]\n",
    "    \n",
    "    for configuration_line in configuration_lines:\n",
    "        configuration_name, configuration = configuration_line.split(',')\n",
    "        \n",
    "        with open(folder_name + \"data/runtimes-\"+ '_'.join(configuration_name.split('_')[:-1]) + '.log', 'r') as log_file:\n",
    "            lines = log_file.readlines()\n",
    "                \n",
    "        with open(folder_name + \"data/runtimes-\"+ configuration_name + '.log', 'w+') as new_log_file:\n",
    "            \n",
    "            lines[3] = lines[3].replace(lines[3].split(':')[1], ' ' + configuration_name + '\\n')\n",
    "            lines[4] = lines[4].replace(lines[4].split(':')[1], configuration)\n",
    "            new_log_file.writelines(lines)\n",
    "            "
   ]
  },
  {
   "cell_type": "code",
   "execution_count": 108,
   "metadata": {},
   "outputs": [
    {
     "data": {
      "text/plain": [
       "['pMIP', 'LIMITS', 'CUTSFACTOR-5']"
      ]
     },
     "execution_count": 108,
     "metadata": {},
     "output_type": "execute_result"
    }
   ],
   "source": [
    "\"pMIP_LIMITS_CUTSFACTOR-5_4\".split('_')[:-1]"
   ]
  },
  {
   "cell_type": "code",
   "execution_count": 109,
   "metadata": {},
   "outputs": [
    {
     "data": {
      "text/plain": [
       "'pMIP_LIMITS_CUTSFACTOR-5'"
      ]
     },
     "execution_count": 109,
     "metadata": {},
     "output_type": "execute_result"
    }
   ],
   "source": [
    "'_'.join(\"pMIP_LIMITS_CUTSFACTOR-5_4\".split('_')[:-1])"
   ]
  },
  {
   "cell_type": "code",
   "execution_count": null,
   "metadata": {},
   "outputs": [],
   "source": []
  }
 ],
 "metadata": {
  "kernelspec": {
   "display_name": "aml",
   "language": "python",
   "name": "aml"
  },
  "language_info": {
   "codemirror_mode": {
    "name": "ipython",
    "version": 3
   },
   "file_extension": ".py",
   "mimetype": "text/x-python",
   "name": "python",
   "nbconvert_exporter": "python",
   "pygments_lexer": "ipython3",
   "version": "3.7.7"
  }
 },
 "nbformat": 4,
 "nbformat_minor": 4
}
