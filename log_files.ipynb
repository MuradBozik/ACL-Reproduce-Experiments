{
 "cells": [
  {
   "cell_type": "code",
   "execution_count": 45,
   "metadata": {},
   "outputs": [],
   "source": [
    "import os\n",
    "import numpy as np\n",
    "import pandas as pd\n",
    "import re"
   ]
  },
  {
   "cell_type": "code",
   "execution_count": 50,
   "metadata": {},
   "outputs": [],
   "source": [
    "folder_name = \"scenarios/CPLEX/slices-regions200/\"\n",
    "\n",
    "list_of_file_names = os.listdir(folder_name + 'data/')"
   ]
  },
  {
   "cell_type": "code",
   "execution_count": 51,
   "metadata": {},
   "outputs": [],
   "source": [
    "list_of_file_names.sort()"
   ]
  },
  {
   "cell_type": "code",
   "execution_count": 52,
   "metadata": {},
   "outputs": [
    {
     "data": {
      "text/plain": [
       "['runtimes-pBARRIER_LIMITS_CORRECTIONS-0.log',\n",
       " 'runtimes-pBARRIER_LIMITS_CORRECTIONS-1.log',\n",
       " 'runtimes-pBARRIER_LIMITS_CORRECTIONS-10.log',\n",
       " 'runtimes-pBARRIER_LIMITS_CORRECTIONS-11.log',\n",
       " 'runtimes-pBARRIER_LIMITS_CORRECTIONS-12.log',\n",
       " 'runtimes-pBARRIER_LIMITS_CORRECTIONS-13.log',\n",
       " 'runtimes-pBARRIER_LIMITS_CORRECTIONS-14.log',\n",
       " 'runtimes-pBARRIER_LIMITS_CORRECTIONS-2.log',\n",
       " 'runtimes-pBARRIER_LIMITS_CORRECTIONS-3.log',\n",
       " 'runtimes-pBARRIER_LIMITS_CORRECTIONS-4.log']"
      ]
     },
     "execution_count": 52,
     "metadata": {},
     "output_type": "execute_result"
    }
   ],
   "source": [
    "list_of_file_names[:10]"
   ]
  },
  {
   "cell_type": "code",
   "execution_count": 53,
   "metadata": {},
   "outputs": [],
   "source": [
    "with open(folder_name + 'configs.csv', 'r') as config_file:\n",
    "    configuration_lines = config_file.readlines()[1:]\n",
    "    \n",
    "    for configuration_line in configuration_lines:\n",
    "        configuration_name, configuation = configuration_line.split(',')\n",
    "        \n",
    "        with open(folder_name + \"data/runtimes-\"+ configuration_name + '.log', 'r+') as log_file:\n",
    "            lines = log_file.readlines()\n",
    "            lines[4] = lines[4].replace(lines[4].split(':')[1], configuation)\n",
    "            \n",
    "            log_file.seek(0)\n",
    "            log_file.writelines(lines)"
   ]
  },
  {
   "cell_type": "code",
   "execution_count": null,
   "metadata": {},
   "outputs": [],
   "source": []
  }
 ],
 "metadata": {
  "kernelspec": {
   "display_name": "aml",
   "language": "python",
   "name": "aml"
  },
  "language_info": {
   "codemirror_mode": {
    "name": "ipython",
    "version": 3
   },
   "file_extension": ".py",
   "mimetype": "text/x-python",
   "name": "python",
   "nbconvert_exporter": "python",
   "pygments_lexer": "ipython3",
   "version": "3.7.7"
  }
 },
 "nbformat": 4,
 "nbformat_minor": 4
}
